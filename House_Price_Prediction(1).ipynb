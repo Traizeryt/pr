# 0. 💡 Setup
import pandas as pd
import numpy as np
import matplotlib.pyplot as plt
import seaborn as sns
%matplotlib inline

from sklearn.model_selection import train_test_split
from sklearn.linear_model import LinearRegression
from sklearn.metrics import mean_squared_error, r2_score

# 1. 📥 Load Kaggle Data
url = "https://media.githubusercontent.com/media/snehasishdhar/simple-house-price-prediction/master/housing.csv"
df = pd.read_csv(url)
print(df.head())
print("\nMissing values:\n", df.isnull().sum())

# 2. 🧼 Clean Data
df = df.dropna()

# 3. 📊 Visualize Data
sns.scatterplot(x='area', y='price', data=df)
plt.title("House Price vs Area")
plt.xlabel("Area (sq.ft)")
plt.ylabel("Price")
plt.show()

sns.scatterplot(x='rooms', y='price', data=df)
plt.title("House Price vs Rooms")
plt.xlabel("Number of Rooms")
plt.ylabel("Price")
plt.show()

# 4. ✂️ Split Features & Target
X = df[['area', 'rooms']]
y = df['price']
X_train, X_test, y_train, y_test = train_test_split(X, y, test_size=0.2, random_state=42)

# 5. 🧠 Train the Model
model = LinearRegression()
model.fit(X_train, y_train)

# 6. 🧪 Predict and Evaluate
y_pred = model.predict(X_test)
mse = mean_squared_error(y_test, y_pred)
r2 = r2_score(y_test, y_pred)
print(f"MSE: {mse:.2f}")
print(f"R²: {r2:.2f}")

# 7. 📈 Plot Results
plt.scatter(y_test, y_pred, alpha=0.7)
plt.plot([y.min(), y.max()], [y.min(), y.max()], 'r--')
plt.xlabel("Actual Price")
plt.ylabel("Predicted Price")
plt.title("Actual vs Predicted Prices")
plt.show()
